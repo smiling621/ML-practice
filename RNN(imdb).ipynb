{
  "nbformat": 4,
  "nbformat_minor": 0,
  "metadata": {
    "colab": {
      "provenance": [],
      "gpuType": "T4",
      "authorship_tag": "ABX9TyPFnvmMs5dLMGqAHJGnVnI9",
      "include_colab_link": true
    },
    "kernelspec": {
      "name": "python3",
      "display_name": "Python 3"
    },
    "language_info": {
      "name": "python"
    },
    "accelerator": "GPU"
  },
  "cells": [
    {
      "cell_type": "markdown",
      "metadata": {
        "id": "view-in-github",
        "colab_type": "text"
      },
      "source": [
        "<a href=\"https://colab.research.google.com/github/smiling621/ML-practice/blob/main/RNN(imdb).ipynb\" target=\"_parent\"><img src=\"https://colab.research.google.com/assets/colab-badge.svg\" alt=\"Open In Colab\"/></a>"
      ]
    },
    {
      "cell_type": "code",
      "execution_count": 1,
      "metadata": {
        "id": "-UbZa4qF8Qzp"
      },
      "outputs": [],
      "source": [
        "from tensorflow import keras\n",
        "from keras.preprocessing import sequence"
      ]
    },
    {
      "cell_type": "code",
      "source": [
        "data = keras.datasets.imdb"
      ],
      "metadata": {
        "id": "hlwgTc8d8gNp"
      },
      "execution_count": 2,
      "outputs": []
    },
    {
      "cell_type": "code",
      "source": [
        "VOCAB_SIZE = 88500\n",
        "MAXLEN = 550\n",
        "BATCH_SIZE = 128"
      ],
      "metadata": {
        "id": "dmkOjK_P860S"
      },
      "execution_count": 81,
      "outputs": []
    },
    {
      "cell_type": "code",
      "source": [
        "(train_data,train_labels),(test_data,test_labels) = data.load_data(num_words = VOCAB_SIZE)"
      ],
      "metadata": {
        "id": "ri1EMpJ-9Fog"
      },
      "execution_count": 82,
      "outputs": []
    },
    {
      "cell_type": "code",
      "source": [
        "train_data = sequence.pad_sequences(train_data, MAXLEN)\n",
        "test_data = sequence.pad_sequences(test_data, MAXLEN)"
      ],
      "metadata": {
        "id": "OAvUtQ3Y8mdi"
      },
      "execution_count": 83,
      "outputs": []
    },
    {
      "cell_type": "code",
      "source": [
        "model = keras.Sequential([\n",
        "    keras.layers.Embedding(VOCAB_SIZE, 32),\n",
        "    keras.layers.LSTM(32),\n",
        "    keras.layers.Dense(1,activation = 'sigmoid')\n",
        "])"
      ],
      "metadata": {
        "id": "thYg32_t8zD9"
      },
      "execution_count": 84,
      "outputs": []
    },
    {
      "cell_type": "code",
      "source": [
        "model.compile(optimizer='rmsprop',loss='binary_crossentropy',metrics=['acc'])"
      ],
      "metadata": {
        "id": "MRLClk-F8jSP"
      },
      "execution_count": 85,
      "outputs": []
    },
    {
      "cell_type": "code",
      "source": [
        "model.fit(train_data,train_labels,epochs=5,validation_split=0.2)"
      ],
      "metadata": {
        "colab": {
          "base_uri": "https://localhost:8080/"
        },
        "id": "12cpgCNs-VKa",
        "outputId": "7df44e86-afe7-4844-9d43-78b2fd828ecb"
      },
      "execution_count": 86,
      "outputs": [
        {
          "output_type": "stream",
          "name": "stdout",
          "text": [
            "Epoch 1/5\n",
            "625/625 [==============================] - 61s 94ms/step - loss: 0.4619 - acc: 0.7771 - val_loss: 0.3685 - val_acc: 0.8436\n",
            "Epoch 2/5\n",
            "625/625 [==============================] - 35s 57ms/step - loss: 0.2640 - acc: 0.8967 - val_loss: 0.2991 - val_acc: 0.8764\n",
            "Epoch 3/5\n",
            "625/625 [==============================] - 27s 43ms/step - loss: 0.2003 - acc: 0.9263 - val_loss: 0.3122 - val_acc: 0.8682\n",
            "Epoch 4/5\n",
            "625/625 [==============================] - 20s 32ms/step - loss: 0.1642 - acc: 0.9424 - val_loss: 0.2825 - val_acc: 0.8888\n",
            "Epoch 5/5\n",
            "625/625 [==============================] - 19s 30ms/step - loss: 0.1344 - acc: 0.9528 - val_loss: 0.3387 - val_acc: 0.8802\n"
          ]
        },
        {
          "output_type": "execute_result",
          "data": {
            "text/plain": [
              "<keras.src.callbacks.History at 0x7d644bacbd90>"
            ]
          },
          "metadata": {},
          "execution_count": 86
        }
      ]
    },
    {
      "cell_type": "code",
      "source": [
        "results=model.evaluate(test_data,test_labels)\n",
        "results"
      ],
      "metadata": {
        "colab": {
          "base_uri": "https://localhost:8080/"
        },
        "id": "F6foDaKT-gQ6",
        "outputId": "5a4b327f-78af-4c1c-aa5b-2e1676d90a76"
      },
      "execution_count": 87,
      "outputs": [
        {
          "output_type": "stream",
          "name": "stdout",
          "text": [
            "782/782 [==============================] - 9s 11ms/step - loss: 0.3526 - acc: 0.8725\n"
          ]
        },
        {
          "output_type": "execute_result",
          "data": {
            "text/plain": [
              "[0.3526488244533539, 0.8724799752235413]"
            ]
          },
          "metadata": {},
          "execution_count": 87
        }
      ]
    },
    {
      "cell_type": "code",
      "source": [
        "word_index=data.get_word_index()"
      ],
      "metadata": {
        "id": "OopUCF2F_aJA"
      },
      "execution_count": 88,
      "outputs": []
    },
    {
      "cell_type": "code",
      "source": [
        "def encode_text(text):\n",
        "  tokens=keras.preprocessing.text.text_to_word_sequence(text)\n",
        "  tokens=[word_index[word] if word in word_index else 0 for word in tokens]\n",
        "  return sequence.pad_sequences([tokens],MAXLEN) [0]\n"
      ],
      "metadata": {
        "id": "7-nYXxJc_iUq"
      },
      "execution_count": 89,
      "outputs": []
    },
    {
      "cell_type": "code",
      "source": [
        "text=\"ram Malik is just amazing, so amazing\"\n",
        "encoded=encode_text(text)\n",
        "print(encoded)"
      ],
      "metadata": {
        "colab": {
          "base_uri": "https://localhost:8080/"
        },
        "id": "UStzFe6FCswN",
        "outputId": "00c4cb83-f174-44c1-a1d4-a75be5efa046"
      },
      "execution_count": 90,
      "outputs": [
        {
          "output_type": "stream",
          "name": "stdout",
          "text": [
            "[    0     0     0     0     0     0     0     0     0     0     0     0\n",
            "     0     0     0     0     0     0     0     0     0     0     0     0\n",
            "     0     0     0     0     0     0     0     0     0     0     0     0\n",
            "     0     0     0     0     0     0     0     0     0     0     0     0\n",
            "     0     0     0     0     0     0     0     0     0     0     0     0\n",
            "     0     0     0     0     0     0     0     0     0     0     0     0\n",
            "     0     0     0     0     0     0     0     0     0     0     0     0\n",
            "     0     0     0     0     0     0     0     0     0     0     0     0\n",
            "     0     0     0     0     0     0     0     0     0     0     0     0\n",
            "     0     0     0     0     0     0     0     0     0     0     0     0\n",
            "     0     0     0     0     0     0     0     0     0     0     0     0\n",
            "     0     0     0     0     0     0     0     0     0     0     0     0\n",
            "     0     0     0     0     0     0     0     0     0     0     0     0\n",
            "     0     0     0     0     0     0     0     0     0     0     0     0\n",
            "     0     0     0     0     0     0     0     0     0     0     0     0\n",
            "     0     0     0     0     0     0     0     0     0     0     0     0\n",
            "     0     0     0     0     0     0     0     0     0     0     0     0\n",
            "     0     0     0     0     0     0     0     0     0     0     0     0\n",
            "     0     0     0     0     0     0     0     0     0     0     0     0\n",
            "     0     0     0     0     0     0     0     0     0     0     0     0\n",
            "     0     0     0     0     0     0     0     0     0     0     0     0\n",
            "     0     0     0     0     0     0     0     0     0     0     0     0\n",
            "     0     0     0     0     0     0     0     0     0     0     0     0\n",
            "     0     0     0     0     0     0     0     0     0     0     0     0\n",
            "     0     0     0     0     0     0     0     0     0     0     0     0\n",
            "     0     0     0     0     0     0     0     0     0     0     0     0\n",
            "     0     0     0     0     0     0     0     0     0     0     0     0\n",
            "     0     0     0     0     0     0     0     0     0     0     0     0\n",
            "     0     0     0     0     0     0     0     0     0     0     0     0\n",
            "     0     0     0     0     0     0     0     0     0     0     0     0\n",
            "     0     0     0     0     0     0     0     0     0     0     0     0\n",
            "     0     0     0     0     0     0     0     0     0     0     0     0\n",
            "     0     0     0     0     0     0     0     0     0     0     0     0\n",
            "     0     0     0     0     0     0     0     0     0     0     0     0\n",
            "     0     0     0     0     0     0     0     0     0     0     0     0\n",
            "     0     0     0     0     0     0     0     0     0     0     0     0\n",
            "     0     0     0     0     0     0     0     0     0     0     0     0\n",
            "     0     0     0     0     0     0     0     0     0     0     0     0\n",
            "     0     0     0     0     0     0     0     0     0     0     0     0\n",
            "     0     0     0     0     0     0     0     0     0     0     0     0\n",
            "     0     0     0     0     0     0     0     0     0     0     0     0\n",
            "     0     0     0     0     0     0     0     0     0     0     0     0\n",
            "     0     0     0     0     0     0     0     0     0     0     0     0\n",
            "     0     0     0     0     0     0     0     0     0     0     0     0\n",
            "     0     0     0     0     0     0     0     0     0     0     0     0\n",
            "     0     0     0  8004 14870     6    40   477    35   477]\n"
          ]
        }
      ]
    },
    {
      "cell_type": "code",
      "source": [
        "reverse_word_index={value:key for(key,value)in word_index.items()}"
      ],
      "metadata": {
        "id": "sqEt-78aC-mU"
      },
      "execution_count": 91,
      "outputs": []
    },
    {
      "cell_type": "code",
      "source": [
        "def decode_integers(integers):\n",
        "    PAD = 0\n",
        "    text = \"\"\n",
        "    for num in integers:\n",
        "        if num != PAD:\n",
        "            text += reverse_word_index[num] + \" \"\n",
        "    return text[:-1]"
      ],
      "metadata": {
        "id": "ZoGD4xXpIYpW"
      },
      "execution_count": 92,
      "outputs": []
    },
    {
      "cell_type": "code",
      "source": [
        "print(decode_integers(encoded))"
      ],
      "metadata": {
        "colab": {
          "base_uri": "https://localhost:8080/"
        },
        "id": "KaGOtBKtDtRW",
        "outputId": "b788130d-61d0-4e8d-de9a-628b47cf2aa8"
      },
      "execution_count": 93,
      "outputs": [
        {
          "output_type": "stream",
          "name": "stdout",
          "text": [
            "ram malik is just amazing so amazing\n"
          ]
        }
      ]
    },
    {
      "cell_type": "code",
      "source": [
        "import numpy as np\n",
        "def predict(text):\n",
        "  encoded_text=encode_text(text)\n",
        "  pred=np.zeros((1,550))\n",
        "  pred[0]=encoded_text\n",
        "  result=model.predict(pred)\n",
        "  print(result[0])"
      ],
      "metadata": {
        "id": "jHxHw4_AElEn"
      },
      "execution_count": 98,
      "outputs": []
    },
    {
      "cell_type": "code",
      "source": [
        "review1=\"That movie was so amazing,I really loved it and want to watch it again\"\n",
        "review2=\"That movie sucks ,I hated it,really frustrating waste of time\""
      ],
      "metadata": {
        "id": "Q_Oa_y1uI8Ne"
      },
      "execution_count": 99,
      "outputs": []
    },
    {
      "cell_type": "code",
      "source": [
        "predict(review1)"
      ],
      "metadata": {
        "colab": {
          "base_uri": "https://localhost:8080/"
        },
        "id": "GPmshd5-Lt7y",
        "outputId": "2f654f7e-1cc6-4c4c-99b2-bb99f5266c91"
      },
      "execution_count": 100,
      "outputs": [
        {
          "output_type": "stream",
          "name": "stdout",
          "text": [
            "1/1 [==============================] - 0s 369ms/step\n",
            "[0.8764941]\n"
          ]
        }
      ]
    },
    {
      "cell_type": "code",
      "source": [
        "predict(review2)"
      ],
      "metadata": {
        "colab": {
          "base_uri": "https://localhost:8080/"
        },
        "id": "AY0A7SuCLxO8",
        "outputId": "85cc3a1e-d7fd-43b1-c60a-dae00ead243a"
      },
      "execution_count": 101,
      "outputs": [
        {
          "output_type": "stream",
          "name": "stdout",
          "text": [
            "1/1 [==============================] - 0s 26ms/step\n",
            "[0.93080467]\n"
          ]
        }
      ]
    },
    {
      "cell_type": "code",
      "source": [],
      "metadata": {
        "id": "dr-odXf4MmGd"
      },
      "execution_count": null,
      "outputs": []
    }
  ]
}